{
 "cells": [
  {
   "cell_type": "code",
   "execution_count": 16,
   "metadata": {},
   "outputs": [],
   "source": [
    "# scannet200 can be directly mapped to wn199\n",
    "import sys\n",
    "import os\n",
    "sys.path.append('..')"
   ]
  },
  {
   "cell_type": "code",
   "execution_count": 17,
   "metadata": {},
   "outputs": [],
   "source": [
    "from pointcept.datasets.preprocessing.alc.preprocess_arkitscenes_labelmaker_consensus import WORDNET_NAMES\n",
    "from pointcept.datasets.preprocessing.scannet.meta_data.scannet200_constants import CLASS_LABELS_200"
   ]
  },
  {
   "cell_type": "code",
   "execution_count": 18,
   "metadata": {},
   "outputs": [],
   "source": [
    "class_name = (\n",
    "    \"wall\",\n",
    "    \"floor\",\n",
    "    \"cabinet\",\n",
    "    \"bed\",\n",
    "    \"chair\",\n",
    "    \"sofa\",\n",
    "    \"table\",\n",
    "    \"door\",\n",
    "    \"window\",\n",
    "    \"bookshelf\",\n",
    "    \"bookcase\",\n",
    "    \"picture\",\n",
    "    \"counter\",\n",
    "    \"desk\",\n",
    "    \"shelves\",\n",
    "    \"curtain\",\n",
    "    \"dresser\",\n",
    "    \"pillow\",\n",
    "    \"mirror\",\n",
    "    \"ceiling\",\n",
    "    \"refrigerator\",\n",
    "    \"television\",\n",
    "    \"shower curtain\",\n",
    "    \"nightstand\",\n",
    "    \"toilet\",\n",
    "    \"sink\",\n",
    "    \"lamp\",\n",
    "    \"bathtub\",\n",
    "    \"garbagebin\",\n",
    "    \"board\",\n",
    "    \"beam\",\n",
    "    \"column\",\n",
    "    \"clutter\",\n",
    "    \"otherstructure\",\n",
    "    \"otherfurniture\",\n",
    "    \"otherprop\",\n",
    ")"
   ]
  },
  {
   "cell_type": "code",
   "execution_count": 19,
   "metadata": {},
   "outputs": [],
   "source": [
    "structured3d_valid_ids = [0, 1, 2, 3, 4, 5, 6, 7, 8, 11, 13, 14, 15, 16, 17, 18, 19, 20, 21, 23, 25, 26, 33, 34, 35]\n",
    "scannet_valid_ids = [0, 1, 2, 3, 4, 5, 6, 7, 8, 9, 11, 12, 13, 15, 20, 22, 24, 25, 27, 34]\n",
    "s3dis_valid_ids = [0, 1, 4, 5, 6, 7, 8, 10, 19, 29, 30, 31, 32]\n",
    "\n",
    "structured3d_class_names = [class_name[i] for i in structured3d_valid_ids]\n",
    "scannet_class_names = [class_name[i] for i in scannet_valid_ids]\n",
    "s3dis_class_names = [class_name[i] for i in s3dis_valid_ids]"
   ]
  },
  {
   "cell_type": "code",
   "execution_count": 20,
   "metadata": {},
   "outputs": [
    {
     "data": {
      "text/plain": [
       "(36, 185, 200)"
      ]
     },
     "execution_count": 20,
     "metadata": {},
     "output_type": "execute_result"
    }
   ],
   "source": [
    "len(class_name), len(WORDNET_NAMES), len(CLASS_LABELS_200)"
   ]
  },
  {
   "cell_type": "code",
   "execution_count": 21,
   "metadata": {},
   "outputs": [],
   "source": [
    "new_label_names = []\n",
    "for label in class_name:\n",
    "    if not label in new_label_names:\n",
    "        new_label_names.append(label)\n",
    "\n",
    "for label in WORDNET_NAMES:\n",
    "    if not label in new_label_names:\n",
    "        new_label_names.append(label)\n",
    "\n",
    "for label in CLASS_LABELS_200:\n",
    "    if not label in new_label_names:\n",
    "        new_label_names.append(label)"
   ]
  },
  {
   "cell_type": "code",
   "execution_count": 22,
   "metadata": {},
   "outputs": [],
   "source": [
    "# new_label_names\n",
    "structured3d_idx = tuple([new_label_names.index(label) for label in structured3d_class_names])"
   ]
  },
  {
   "cell_type": "code",
   "execution_count": 35,
   "metadata": {},
   "outputs": [],
   "source": [
    "scannet20_idx = tuple([new_label_names.index(label) for label in scannet_class_names])"
   ]
  },
  {
   "cell_type": "code",
   "execution_count": 24,
   "metadata": {},
   "outputs": [],
   "source": [
    "s3dis_idx  = tuple([new_label_names.index(label) for label in s3dis_class_names])"
   ]
  },
  {
   "cell_type": "code",
   "execution_count": 25,
   "metadata": {},
   "outputs": [],
   "source": [
    "wordnet_idx  = tuple([new_label_names.index(label) for label in WORDNET_NAMES])"
   ]
  },
  {
   "cell_type": "code",
   "execution_count": 26,
   "metadata": {},
   "outputs": [],
   "source": [
    "scannet200_idx = tuple([new_label_names.index(label) for label in CLASS_LABELS_200])"
   ]
  },
  {
   "cell_type": "code",
   "execution_count": 39,
   "metadata": {},
   "outputs": [
    {
     "data": {
      "text/plain": [
       "(0,\n",
       " 4,\n",
       " 1,\n",
       " 6,\n",
       " 7,\n",
       " 199,\n",
       " 2,\n",
       " 200,\n",
       " 13,\n",
       " 201,\n",
       " 3,\n",
       " 17,\n",
       " 25,\n",
       " 11,\n",
       " 8,\n",
       " 24,\n",
       " 9,\n",
       " 202,\n",
       " 15,\n",
       " 36,\n",
       " 47,\n",
       " 55,\n",
       " 40,\n",
       " 20,\n",
       " 26,\n",
       " 203,\n",
       " 43,\n",
       " 204,\n",
       " 205,\n",
       " 23,\n",
       " 12,\n",
       " 16,\n",
       " 58,\n",
       " 39,\n",
       " 48,\n",
       " 19,\n",
       " 27,\n",
       " 206,\n",
       " 207,\n",
       " 208,\n",
       " 52,\n",
       " 44,\n",
       " 209,\n",
       " 68,\n",
       " 210,\n",
       " 211,\n",
       " 77,\n",
       " 22,\n",
       " 212,\n",
       " 213,\n",
       " 214,\n",
       " 64,\n",
       " 71,\n",
       " 51,\n",
       " 215,\n",
       " 53,\n",
       " 216,\n",
       " 217,\n",
       " 75,\n",
       " 29,\n",
       " 218,\n",
       " 18,\n",
       " 219,\n",
       " 96,\n",
       " 220,\n",
       " 221,\n",
       " 72,\n",
       " 67,\n",
       " 222,\n",
       " 73,\n",
       " 94,\n",
       " 223,\n",
       " 131,\n",
       " 224,\n",
       " 114,\n",
       " 124,\n",
       " 86,\n",
       " 106,\n",
       " 225,\n",
       " 226,\n",
       " 49,\n",
       " 227,\n",
       " 92,\n",
       " 76,\n",
       " 70,\n",
       " 61,\n",
       " 98,\n",
       " 87,\n",
       " 74,\n",
       " 62,\n",
       " 228,\n",
       " 123,\n",
       " 229,\n",
       " 120,\n",
       " 230,\n",
       " 90,\n",
       " 231,\n",
       " 31,\n",
       " 112,\n",
       " 113,\n",
       " 232,\n",
       " 233,\n",
       " 234,\n",
       " 63,\n",
       " 235,\n",
       " 83,\n",
       " 101,\n",
       " 236,\n",
       " 140,\n",
       " 89,\n",
       " 99,\n",
       " 80,\n",
       " 116,\n",
       " 237,\n",
       " 138,\n",
       " 142,\n",
       " 81,\n",
       " 238,\n",
       " 41,\n",
       " 239,\n",
       " 240,\n",
       " 121,\n",
       " 241,\n",
       " 127,\n",
       " 242,\n",
       " 129,\n",
       " 117,\n",
       " 115,\n",
       " 243,\n",
       " 244,\n",
       " 245,\n",
       " 246,\n",
       " 93,\n",
       " 247,\n",
       " 143,\n",
       " 248,\n",
       " 249,\n",
       " 132,\n",
       " 250,\n",
       " 251,\n",
       " 147,\n",
       " 252,\n",
       " 84,\n",
       " 253,\n",
       " 151,\n",
       " 254,\n",
       " 255,\n",
       " 146,\n",
       " 118,\n",
       " 256,\n",
       " 257,\n",
       " 110,\n",
       " 133,\n",
       " 258,\n",
       " 85,\n",
       " 148,\n",
       " 259,\n",
       " 260,\n",
       " 261,\n",
       " 262,\n",
       " 145,\n",
       " 263,\n",
       " 264,\n",
       " 111,\n",
       " 126,\n",
       " 265,\n",
       " 137,\n",
       " 141,\n",
       " 266,\n",
       " 267,\n",
       " 268,\n",
       " 269,\n",
       " 270,\n",
       " 271,\n",
       " 272,\n",
       " 273,\n",
       " 274,\n",
       " 275,\n",
       " 276,\n",
       " 97,\n",
       " 277,\n",
       " 278,\n",
       " 279,\n",
       " 280,\n",
       " 281,\n",
       " 282,\n",
       " 283,\n",
       " 284,\n",
       " 285,\n",
       " 286,\n",
       " 287,\n",
       " 288,\n",
       " 289,\n",
       " 139,\n",
       " 290,\n",
       " 291,\n",
       " 292,\n",
       " 293,\n",
       " 294,\n",
       " 295)"
      ]
     },
     "execution_count": 39,
     "metadata": {},
     "output_type": "execute_result"
    }
   ],
   "source": [
    "scannet200_idx"
   ]
  },
  {
   "cell_type": "code",
   "execution_count": 34,
   "metadata": {},
   "outputs": [
    {
     "data": {
      "text/plain": [
       "20"
      ]
     },
     "execution_count": 34,
     "metadata": {},
     "output_type": "execute_result"
    }
   ],
   "source": [
    "len(tuple([new_label_names.index(label) for label in scannet_class_names]))"
   ]
  },
  {
   "cell_type": "code",
   "execution_count": 29,
   "metadata": {},
   "outputs": [
    {
     "data": {
      "text/plain": [
       "20"
      ]
     },
     "execution_count": 29,
     "metadata": {},
     "output_type": "execute_result"
    }
   ],
   "source": [
    "len(scannet_class_names)"
   ]
  },
  {
   "cell_type": "code",
   "execution_count": 36,
   "metadata": {},
   "outputs": [
    {
     "data": {
      "text/plain": [
       "(0, 1, 2, 3, 4, 5, 6, 7, 8, 9, 11, 12, 13, 15, 20, 22, 24, 25, 27, 34)"
      ]
     },
     "execution_count": 36,
     "metadata": {},
     "output_type": "execute_result"
    }
   ],
   "source": []
  },
  {
   "cell_type": "code",
   "execution_count": null,
   "metadata": {},
   "outputs": [],
   "source": []
  }
 ],
 "metadata": {
  "kernelspec": {
   "display_name": "labelmaker-pointcept",
   "language": "python",
   "name": "python3"
  },
  "language_info": {
   "codemirror_mode": {
    "name": "ipython",
    "version": 3
   },
   "file_extension": ".py",
   "mimetype": "text/x-python",
   "name": "python",
   "nbconvert_exporter": "python",
   "pygments_lexer": "ipython3",
   "version": "3.9.18"
  }
 },
 "nbformat": 4,
 "nbformat_minor": 2
}
