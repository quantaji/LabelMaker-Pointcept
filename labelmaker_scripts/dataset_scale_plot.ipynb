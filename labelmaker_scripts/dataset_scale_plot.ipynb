{
 "cells": [
  {
   "cell_type": "code",
   "execution_count": 1,
   "metadata": {},
   "outputs": [],
   "source": [
    "import matplotlib.pyplot as plt\n",
    "import numpy as np"
   ]
  },
  {
   "cell_type": "code",
   "execution_count": 2,
   "metadata": {},
   "outputs": [],
   "source": [
    "# names = (\"S3DIS\", \"ScanNet\", \"Structured3D\", \"ARKit LM\")\n",
    "# names = (\"Structured3D\\n25 classes\", \"ARKit LabelMaker (Ours)\\n186 classes \", \"ScanNet/ScanNet200 \\n 20/200 classes\", \"S3DIS\\n13 classes\", \"ScanNet++\\n100 classes\")\n",
    "# names = (\"ARKit LabelMaker (Ours)\\n186 classes \", \"ScanNet/ScanNet200 \\n 20/200 classes\", \"S3DIS\\n13 classes\", \"ScanNet++\\n100 classes\")\n",
    "names = (\" \", \"  \", \"   \", \"    \")"
   ]
  },
  {
   "cell_type": "code",
   "execution_count": 3,
   "metadata": {},
   "outputs": [],
   "source": [
    "# data = {\n",
    "#     \"S3DIS\": np.array([406, 0, 0]),\n",
    "#     \"ScanNet/ScanNet200\": np.array([1201, 312, 100]),\n",
    "#     \"Structured3D\": np.array([6519, 0, 1697]),\n",
    "#     \"ARKitScenes LabelMaker\": np.array([4471, 548, 0]),\n",
    "# }\n",
    "\n",
    "# data = {\n",
    "#     \"train\": [406, 1201, 6519, 4471],\n",
    "#     \"val\": [0, 312, 0, 548],\n",
    "#     \"test\": [0, 100, 1697, 0],\n",
    "# }\n",
    "# label = {\n",
    "#     \"train\": [\"406\", \"1201\", \"6519\", \"4471\"],\n",
    "#     \"val\": [\"\", \"312\", \"\", \"548\"],\n",
    "#     \"test\": [\"\", \"100\", \"1697\", \"\"],\n",
    "# }\n",
    "\n",
    "# data = {\n",
    "#     \"train\": [6519, 4471, 1201, 406, 230],\n",
    "#     \"val\": [0, 548, 312, 0, 50],\n",
    "#     \"test\": [1697, 0, 100, 0, 50],\n",
    "# }\n",
    "# label = {\n",
    "#     \"train\": [\"6519\", \"4471\", \"1201\", \"406\", \"230\"],\n",
    "#     \"val\": [\"\", \"548\", \"312\", \"\", \"50\"],\n",
    "#     \"test\": [\"1697\", \"\", \"100\", \"\", \"50\"],\n",
    "# }\n",
    "\n",
    "data = {\n",
    "    \"train\": [4471, 1201, 406, 230],\n",
    "    \"val\": [548, 312, 0, 50],\n",
    "    \"test\": [0, 100, 0, 50],\n",
    "}\n",
    "# label = {\n",
    "#     \"train\": [\"4471\", \"1201\", \"406\", \"230\"],\n",
    "#     \"val\": [\"548\", \"312\", \"\", \"50\"],\n",
    "#     \"test\": [\"\", \"100\", \"\", \"50\"],\n",
    "# }\n",
    "\n",
    "label = {\n",
    "    \"train\": [\"\", \"\", \"\", \"\"],\n",
    "    \"val\": [\"\", \"\", \"\", \"\"],\n",
    "    \"test\": [\"\", \"\", \"\", \"\"],\n",
    "}"
   ]
  },
  {
   "cell_type": "code",
   "execution_count": 4,
   "metadata": {},
   "outputs": [
    {
     "data": {
      "image/png": "[encoded data removed]",
      "text/html": [
       "<div style=\"vertical-align: middle;\"><strong>tab20</strong> </div><div class=\"cmap\"><img alt=\"tab20 colormap\" title=\"tab20\" style=\"border: 1px solid #555;\" src=\"data:image/png;base64,iVBORw0KGgoAAAANSUhEUgAAAgAAAABACAYAAABsv8+/AAAAFHRFWHRUaXRsZQB0YWIyMCBjb2xvcm1hcM5rFwoAAAAadEVYdERlc2NyaXB0aW9uAHRhYjIwIGNvbG9ybWFwMDS+7AAAADB0RVh0QXV0aG9yAE1hdHBsb3RsaWIgdjMuOS4yLCBodHRwczovL21hdHBsb3RsaWIub3JnYZnFUwAAADJ0RVh0U29mdHdhcmUATWF0cGxvdGxpYiB2My45LjIsIGh0dHBzOi8vbWF0cGxvdGxpYi5vcmdPP1p0AAABxklEQVR4nO3WMUrWARyH8a+eoEHCIXw3pcEgaGgQhQZ53WwOOoBJ4KJHsM2p1bGtzaEbiFMHaIyOoGud4vcn+H4+F3jWZ2N1dfc3C7g5fbNEJu9/7M5HDs7mG0n2/9yNN86PPo43kuRwfTveeHnxebyRJF9/7o03Xp9sjzeS5P7b5SKdt8cn443Vr1fjjSTZOno23vjy8H28kSTr9Xq88fj0YbyRJKudT+ONg9/vxhtJcv3i+SKdzUUqAMB/xQAAQCEDAACFDAAAFDIAAFDIAABAIQMAAIUMAAAUMgAAUMgAAEAhAwAAhQwAABQyAABQyAAAQCEDAACFDAAAFDIAAFDIAABAIQMAAIUMAAAUMgAAUMgAAEAhAwAAhQwAABQyAABQyAAAQCEDAACFDAAAFDIAAFDIAABAIQMAAIUMAAAUMgAAUMgAAEAhAwAAhQwAABQyAABQyAAAQCEDAACFDAAAFDIAAFDIAABAIQMAAIUMAAAUMgAAUMgAAEAhAwAAhQwAABQyAABQyAAAQCEDAACFDAAAFDIAAFDIAABAIQMAAIUMAAAUMgAAUMgAAEAhAwAAhQwAABQyAABQyAAAQCEDAACF/gH40hjcC1ZyLQAAAABJRU5ErkJggg==\"></div><div style=\"vertical-align: middle; max-width: 514px; display: flex; justify-content: space-between;\"><div style=\"float: left;\"><div title=\"#1f77b4ff\" style=\"display: inline-block; width: 1em; height: 1em; margin: 0; vertical-align: middle; border: 1px solid #555; background-color: #1f77b4ff;\"></div> under</div><div style=\"margin: 0 auto; display: inline-block;\">bad <div title=\"#00000000\" style=\"display: inline-block; width: 1em; height: 1em; margin: 0; vertical-align: middle; border: 1px solid #555; background-color: #00000000;\"></div></div><div style=\"float: right;\">over <div title=\"#9edae5ff\" style=\"display: inline-block; width: 1em; height: 1em; margin: 0; vertical-align: middle; border: 1px solid #555; background-color: #9edae5ff;\"></div></div></div>"
      ],
      "text/plain": [
       "<matplotlib.colors.ListedColormap at 0x7eb3fbf980a0>"
      ]
     },
     "execution_count": 4,
     "metadata": {},
     "output_type": "execute_result"
    }
   ],
   "source": [
    "from matplotlib import colormaps\n",
    "colormaps[\"tab20\"]"
   ]
  },
  {
   "cell_type": "code",
   "execution_count": 5,
   "metadata": {},
   "outputs": [],
   "source": [
    "cmap = plt.get_cmap('tab20')"
   ]
  },
  {
   "cell_type": "code",
   "execution_count": 6,
   "metadata": {},
   "outputs": [
    {
     "data": {
      "text/plain": [
       "(1.0, 0.4980392156862745, 0.054901960784313725, 1.0)"
      ]
     },
     "execution_count": 6,
     "metadata": {},
     "output_type": "execute_result"
    }
   ],
   "source": [
    "cmap(2)"
   ]
  },
  {
   "cell_type": "code",
   "execution_count": 13,
   "metadata": {},
   "outputs": [
    {
     "data": {
      "image/png": "[encoded data removed]",
      "text/plain": [
       "<Figure size 1200x500 with 1 Axes>"
      ]
     },
     "metadata": {},
     "output_type": "display_data"
    }
   ],
   "source": [
    "width = 0.6  # the width of the bars: can also be len(x) sequence\n",
    "\n",
    "\n",
    "fig, ax = plt.subplots(figsize=(12, 5))\n",
    "\n",
    "plt.rcParams['axes.spines.left'] = True\n",
    "plt.rcParams['axes.spines.right'] = False\n",
    "plt.rcParams['axes.spines.top'] = False\n",
    "plt.rcParams['axes.spines.bottom'] = True\n",
    "\n",
    "bottom = np.zeros(4)\n",
    "\n",
    "for i, (name, counts) in enumerate(data.items()):\n",
    "    colors = []\n",
    "    for j in range(4):\n",
    "        # if j == 0:\n",
    "        #     color =  list(cmap(i*2+1))\n",
    "        # else:\n",
    "        #     color = list(cmap(i*2))\n",
    "        color = list(cmap(i*2))\n",
    "        colors.append(tuple(color))\n",
    "    p = ax.barh(names, counts, width, label=name, left=bottom, color=colors)\n",
    "    # p = ax.barh(names, counts, width, left=bottom, color=colors)\n",
    "    bottom += counts\n",
    "    ax.bar_label(p, labels=label[name], label_type=\"center\")\n",
    "\n",
    "ax.set_title(\"Datasets Scale\")\n",
    "ax.legend()\n",
    "plt.xlim(0, 7000)\n",
    "plt.ylim(-0.5, 3.7)\n",
    "\n",
    "\n",
    "\n",
    "plt.yticks(rotation=45)\n",
    "# plt.show()\n",
    "plt.savefig(\"datasets_scale.svg\")"
   ]
  },
  {
   "cell_type": "code",
   "execution_count": null,
   "metadata": {},
   "outputs": [],
   "source": []
  },
  {
   "cell_type": "code",
   "execution_count": null,
   "metadata": {},
   "outputs": [],
   "source": []
  }
 ],
 "metadata": {
  "kernelspec": {
   "display_name": "labelmaker-pointcept",
   "language": "python",
   "name": "python3"
  },
  "language_info": {
   "codemirror_mode": {
    "name": "ipython",
    "version": 3
   },
   "file_extension": ".py",
   "mimetype": "text/x-python",
   "name": "python",
   "nbconvert_exporter": "python",
   "pygments_lexer": "ipython3",
   "version": "3.9.19"
  }
 },
 "nbformat": 4,
 "nbformat_minor": 2
}
