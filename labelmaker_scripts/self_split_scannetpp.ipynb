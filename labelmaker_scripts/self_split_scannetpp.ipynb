{
 "cells": [
  {
   "cell_type": "code",
   "execution_count": 1,
   "metadata": {},
   "outputs": [],
   "source": [
    "from pathlib import Path"
   ]
  },
  {
   "cell_type": "code",
   "execution_count": 2,
   "metadata": {},
   "outputs": [],
   "source": [
    "scans = [p.stem for p in Path(\"/mnt/ScanNet++/data\").glob(\"*\")]\n",
    "scans = set(scans)"
   ]
  },
  {
   "cell_type": "code",
   "execution_count": 3,
   "metadata": {},
   "outputs": [],
   "source": [
    "test_scans = []\n",
    "with open(\"/mnt/ScanNet++/splits/sem_test.txt\", \"r\") as f:\n",
    "    for line in f:\n",
    "        test_scans.append(line.strip())\n",
    "test_scans = set(test_scans)"
   ]
  },
  {
   "cell_type": "code",
   "execution_count": 4,
   "metadata": {},
   "outputs": [],
   "source": [
    "train_val_scans = (scans - test_scans)"
   ]
  },
  {
   "cell_type": "code",
   "execution_count": 5,
   "metadata": {},
   "outputs": [
    {
     "data": {
      "text/plain": [
       "set()"
      ]
     },
     "execution_count": 5,
     "metadata": {},
     "output_type": "execute_result"
    }
   ],
   "source": [
    "test_scans - scans"
   ]
  },
  {
   "cell_type": "code",
   "execution_count": 6,
   "metadata": {},
   "outputs": [
    {
     "data": {
      "text/plain": [
       "(330, 380)"
      ]
     },
     "execution_count": 6,
     "metadata": {},
     "output_type": "execute_result"
    }
   ],
   "source": [
    "len(train_val_scans), len(scans)"
   ]
  },
  {
   "cell_type": "code",
   "execution_count": 7,
   "metadata": {},
   "outputs": [
    {
     "data": {
      "text/plain": [
       "set()"
      ]
     },
     "execution_count": 7,
     "metadata": {},
     "output_type": "execute_result"
    }
   ],
   "source": [
    "train_val_scans & test_scans"
   ]
  },
  {
   "cell_type": "code",
   "execution_count": 8,
   "metadata": {},
   "outputs": [
    {
     "data": {
      "text/plain": [
       "(50, 330)"
      ]
     },
     "execution_count": 8,
     "metadata": {},
     "output_type": "execute_result"
    }
   ],
   "source": [
    "len(test_scans), len(train_val_scans)"
   ]
  },
  {
   "cell_type": "code",
   "execution_count": 9,
   "metadata": {},
   "outputs": [],
   "source": [
    "import numpy as np"
   ]
  },
  {
   "cell_type": "code",
   "execution_count": 10,
   "metadata": {},
   "outputs": [],
   "source": [
    "val_scans = np.random.choice(np.array(list(train_val_scans)), replace=False, size=50)\n",
    "val_scans = set(val_scans.tolist())\n",
    "train_scans = train_val_scans - val_scans"
   ]
  },
  {
   "cell_type": "code",
   "execution_count": 11,
   "metadata": {},
   "outputs": [
    {
     "data": {
      "text/plain": [
       "50"
      ]
     },
     "execution_count": 11,
     "metadata": {},
     "output_type": "execute_result"
    }
   ],
   "source": [
    "len(val_scans)"
   ]
  },
  {
   "cell_type": "code",
   "execution_count": 12,
   "metadata": {},
   "outputs": [
    {
     "data": {
      "text/plain": [
       "set()"
      ]
     },
     "execution_count": 12,
     "metadata": {},
     "output_type": "execute_result"
    }
   ],
   "source": [
    "val_scans & test_scans"
   ]
  },
  {
   "cell_type": "code",
   "execution_count": 13,
   "metadata": {},
   "outputs": [
    {
     "data": {
      "text/plain": [
       "({'02a980c994',\n",
       "  '036bce3393',\n",
       "  '03f7a0e617',\n",
       "  '047fb766c4',\n",
       "  '076c822ecc',\n",
       "  '079a326597',\n",
       "  '07f5b601ee',\n",
       "  '07ff1c45bb',\n",
       "  '08bbbdcc3d',\n",
       "  '09bced689e',\n",
       "  '09c1414f1b',\n",
       "  '0a184cf634',\n",
       "  '0a5c013435',\n",
       "  '0a7cc12c0e',\n",
       "  '0b031f3119',\n",
       "  '0cf2e9402d',\n",
       "  '0d2ee665be',\n",
       "  '0e75f3c4d9',\n",
       "  '104acbf7d2',\n",
       "  '108ec0b806',\n",
       "  '116456116b',\n",
       "  '11b696efba',\n",
       "  '1204e08f17',\n",
       "  '124974734e',\n",
       "  '13285009a4',\n",
       "  '1366d5ae89',\n",
       "  '13c3e046d7',\n",
       "  '15155a88fb',\n",
       "  '1831b3823a',\n",
       "  '1841a0b525',\n",
       "  '1a130d092a',\n",
       "  '1a8e0d78c0',\n",
       "  '1ada7a0617',\n",
       "  '1ae9e5d2a6',\n",
       "  '1b75758486',\n",
       "  '1b9692f0c7',\n",
       "  '1c4b893630',\n",
       "  '1c876c250f',\n",
       "  '1d003b07bd',\n",
       "  '1f7cbbdde1',\n",
       "  '210f741378',\n",
       "  '21d970d8de',\n",
       "  '251443268c',\n",
       "  '252652d5ba',\n",
       "  '25927bb04c',\n",
       "  '25f3b7a318',\n",
       "  '260db9cf5a',\n",
       "  '260fa55d50',\n",
       "  '27dd4da69e',\n",
       "  '280b83fcf3',\n",
       "  '281ba69af1',\n",
       "  '281bc17764',\n",
       "  '286b55a2bf',\n",
       "  '28a9ee4557',\n",
       "  '2970e95b65',\n",
       "  '2a496183e1',\n",
       "  '2b1dc6d6a5',\n",
       "  '2e74812d00',\n",
       "  '302a7f6b67',\n",
       "  '303745abc7',\n",
       "  '30966f4c6e',\n",
       "  '30f4a2b44d',\n",
       "  '319787e6ec',\n",
       "  '31a2c91c43',\n",
       "  '320c3af000',\n",
       "  '324d07a5b3',\n",
       "  '355e5e32db',\n",
       "  '37ea1c52f0',\n",
       "  '3864514494',\n",
       "  '38d58a7a31',\n",
       "  '3928249b53',\n",
       "  '394a542a19',\n",
       "  '39e6ee46df',\n",
       "  '3db0a1c8f3',\n",
       "  '3e8bba0176',\n",
       "  '3e928dc2f6',\n",
       "  '3f15a9266d',\n",
       "  '3f1e1610de',\n",
       "  '40aec5fffa',\n",
       "  '40b56bf310',\n",
       "  '419cbe7c11',\n",
       "  '4318f8bb3c',\n",
       "  '4422722c49',\n",
       "  '45b0dac5e3',\n",
       "  '471cc4ba84',\n",
       "  '47b37eb6f9',\n",
       "  '480ddaadc0',\n",
       "  '484ad681df',\n",
       "  '49a82360aa',\n",
       "  '4a1a3a7dc5',\n",
       "  '4ba22fa7e4',\n",
       "  '4bc04e0cde',\n",
       "  '4c5c60fa76',\n",
       "  '4ea827f5a1',\n",
       "  '50809ea0d8',\n",
       "  '52599ae063',\n",
       "  '5298ec174f',\n",
       "  '54e7ffaea3',\n",
       "  '55b2bf8036',\n",
       "  '5654092cc2',\n",
       "  '56a0ec536c',\n",
       "  '5748ce6f01',\n",
       "  '578511c8a9',\n",
       "  '5942004064',\n",
       "  '5a14f9da39',\n",
       "  '5a269ba6fe',\n",
       "  '5d152fab1b',\n",
       "  '5eb31827b7',\n",
       "  '5f99900f09',\n",
       "  '5fb5d2dbf2',\n",
       "  '6115eddb86',\n",
       "  '61adeff7d5',\n",
       "  '633f9a9f06',\n",
       "  '646af5e14b',\n",
       "  '64ea6b73c2',\n",
       "  '651dc6b4f1',\n",
       "  '6855e1ac32',\n",
       "  '689fec23d7',\n",
       "  '6b40d1a939',\n",
       "  '6cc2231b9c',\n",
       "  '6d89a7320d',\n",
       "  '6ee2fc1070',\n",
       "  '6f1848d1e3',\n",
       "  '7079b59642',\n",
       "  '709ab5bffe',\n",
       "  '712dc47104',\n",
       "  '74ff105c0d',\n",
       "  '75d29d69b8',\n",
       "  '77596f5d2a',\n",
       "  '7831862f02',\n",
       "  '7977624358',\n",
       "  '7b37cccb03',\n",
       "  '7b6477cb95',\n",
       "  '7bc286c1b6',\n",
       "  '7d72f01865',\n",
       "  '7e09430da7',\n",
       "  '7e7cd69a59',\n",
       "  '7eac902fd5',\n",
       "  '7f4d173c9c',\n",
       "  '80ffca8a48',\n",
       "  '8133208cb6',\n",
       "  '825d228aec',\n",
       "  '8283161f1b',\n",
       "  '84b48f2614',\n",
       "  '85251de7d1',\n",
       "  '87f6d7d564',\n",
       "  '88627b561e',\n",
       "  '8890d0a267',\n",
       "  '89214f3ca0',\n",
       "  '893fb90e89',\n",
       "  '8a20d62ac0',\n",
       "  '8a35ef3cfe',\n",
       "  '8b2c0938d6',\n",
       "  '8b5caf3398',\n",
       "  '8be0cd3817',\n",
       "  '8e00ac7f59',\n",
       "  '8e6ff28354',\n",
       "  '8f82c394d6',\n",
       "  '9460c8889d',\n",
       "  '9471b8d485',\n",
       "  '94ee15e8ba',\n",
       "  '95d525fbfd',\n",
       "  '961911d451',\n",
       "  '9859de300f',\n",
       "  '98b4ec142f',\n",
       "  '98fe276aa8',\n",
       "  '99fa5c25e1',\n",
       "  '9b365a9b68',\n",
       "  '9b74afd2d2',\n",
       "  '9f139a318d',\n",
       "  '9f21bdec45',\n",
       "  'a003a6585e',\n",
       "  'a05ee63164',\n",
       "  'a08dda47a8',\n",
       "  'a1d9da703c',\n",
       "  'a24f64f7fb',\n",
       "  'a29cccc784',\n",
       "  'a46b21d949',\n",
       "  'a4e227f506',\n",
       "  'a5114ca13d',\n",
       "  'a8bf42d646',\n",
       "  'a980334473',\n",
       "  'aaa11940d3',\n",
       "  'ab046f8faf',\n",
       "  'ab11145646',\n",
       "  'ab6983ae6c',\n",
       "  'ac48a9b736',\n",
       "  'acd69a1746',\n",
       "  'ad2d07fd11',\n",
       "  'ada5304e41',\n",
       "  'b074ca565a',\n",
       "  'b09431c547',\n",
       "  'b0a08200c9',\n",
       "  'b1d75ecd55',\n",
       "  'b20a261fdf',\n",
       "  'b5918e4637',\n",
       "  'b73f5cdc41',\n",
       "  'bb87c292ad',\n",
       "  'bc03d88fc3',\n",
       "  'bc2fce1d81',\n",
       "  'bc400d86e1',\n",
       "  'bcd2436daf',\n",
       "  'bd9305480d',\n",
       "  'be0ed6b33c',\n",
       "  'be91f7884d',\n",
       "  'beb802368c',\n",
       "  'bee11d6a41',\n",
       "  'bf6e439e38',\n",
       "  'bfd3fd54d2',\n",
       "  'c06a983e63',\n",
       "  'c0c863b72d',\n",
       "  'c0cbb1fea1',\n",
       "  'c0f5742640',\n",
       "  'c173f62b15',\n",
       "  'c24f94007b',\n",
       "  'c3e279be54',\n",
       "  'c47168fab2',\n",
       "  'c49a8c6cff',\n",
       "  'c4c04e6d6c',\n",
       "  'c50d2d1d42',\n",
       "  'c5439f4607',\n",
       "  'c545851c4f',\n",
       "  'c5f701a8c7',\n",
       "  'c8f2218ee2',\n",
       "  'c9bf4c8b62',\n",
       "  'cbd4b3055e',\n",
       "  'cc5237fd77',\n",
       "  'ccdc33dc2a',\n",
       "  'ccfd3ed9c7',\n",
       "  'cd7973d92b',\n",
       "  'cf1ffd871d',\n",
       "  'd228e2d9dd',\n",
       "  'd2f44bf242',\n",
       "  'd415cc449b',\n",
       "  'd4d2019f5d',\n",
       "  'd6702c681d',\n",
       "  'd6cbe4b28b',\n",
       "  'd6d9ddb03f',\n",
       "  'd755b3d9d8',\n",
       "  'd7abfc4b17',\n",
       "  'd918af9c5f',\n",
       "  'daffc70503',\n",
       "  'dc263dfbf0',\n",
       "  'dfac5b38df',\n",
       "  'dfe9cbd72a',\n",
       "  'e01b287af5',\n",
       "  'e050c15a8d',\n",
       "  'e0abd740ba',\n",
       "  'e0de253456',\n",
       "  'e0e83b4ca3',\n",
       "  'e1b1d9de55',\n",
       "  'e398684d27',\n",
       "  'e3ecd49e2b',\n",
       "  'e7af285f7d',\n",
       "  'e898c76c1f',\n",
       "  'e8e81396b6',\n",
       "  'e8ea9b4da8',\n",
       "  'e91722b5a3',\n",
       "  'e9ac2fc517',\n",
       "  'eb4bc76767',\n",
       "  'ebc200e928',\n",
       "  'ebff4de90b',\n",
       "  'ef69d58016',\n",
       "  'f00bd5fa8a',\n",
       "  'f07340dfea',\n",
       "  'f20e7b5640',\n",
       "  'f248c2bcdc',\n",
       "  'f25f5e6f63',\n",
       "  'f2dc06b1d2',\n",
       "  'f34d532901',\n",
       "  'f3685d06a9',\n",
       "  'f3d64c30f8',\n",
       "  'f6659a3107',\n",
       "  'f8062cb7ce',\n",
       "  'f8f12e4e6b',\n",
       "  'f9f95681fd',\n",
       "  'fb05e13ad1',\n",
       "  'fb5a96b1a2',\n",
       "  'fe1733741f',\n",
       "  'fe94fc30cf'},\n",
       " {'0a76e06478',\n",
       "  '16c9bd2e1e',\n",
       "  '290ef3f2c9',\n",
       "  '32280ecbca',\n",
       "  '39f36da05b',\n",
       "  '3c95c89d61',\n",
       "  '410c470782',\n",
       "  '41b00feddb',\n",
       "  '45d2e33be1',\n",
       "  '49c758655e',\n",
       "  '54b6127146',\n",
       "  '5656608266',\n",
       "  '59e3f1ea37',\n",
       "  '5ee7c22ba0',\n",
       "  '6464461276',\n",
       "  '66c98f4a9b',\n",
       "  '67d702f2e8',\n",
       "  '69e5939669',\n",
       "  '785e7504b9',\n",
       "  '7cd2ac43b4',\n",
       "  '824d9cfa6e',\n",
       "  '88cf747085',\n",
       "  '8d563fc2cc',\n",
       "  '9071e139d9',\n",
       "  '9a9e32c768',\n",
       "  '9e019d8be1',\n",
       "  '9f79564dbf',\n",
       "  'a08d9a2476',\n",
       "  'acd95847c5',\n",
       "  'b08a908f0f',\n",
       "  'b26e64c4b0',\n",
       "  'b97261909e',\n",
       "  'bd7375297e',\n",
       "  'bde1e479ad',\n",
       "  'c413b34238',\n",
       "  'c856c41c99',\n",
       "  'c9abde4c4b',\n",
       "  'ca0e09014e',\n",
       "  'd1b9dff904',\n",
       "  'd6419f6478',\n",
       "  'e7ac609391',\n",
       "  'e9e16b6043',\n",
       "  'ecb5d01065',\n",
       "  'ed2216380b',\n",
       "  'ef18cf0708',\n",
       "  'ef25276c25',\n",
       "  'f0b0a42ba3',\n",
       "  'f5401524e5',\n",
       "  'faec2f0468',\n",
       "  'fd361ab85f'},\n",
       " {'02455b3d20',\n",
       "  '0529d56cce',\n",
       "  '06a3d79b68',\n",
       "  '154c3e10d9',\n",
       "  '18fd041970',\n",
       "  '1be2c31cac',\n",
       "  '21532e059d',\n",
       "  '285efbc7cf',\n",
       "  '29b607c6d5',\n",
       "  '2a1a3afad9',\n",
       "  '2e67a32314',\n",
       "  '3a161a857d',\n",
       "  '3e6ceea56c',\n",
       "  '47eb87b5bb',\n",
       "  '497588b572',\n",
       "  '4ef75031e3',\n",
       "  '5371eff4f9',\n",
       "  '54bca9597e',\n",
       "  '569f99f881',\n",
       "  '68739bdf1f',\n",
       "  '6ebe30292e',\n",
       "  '6f12492455',\n",
       "  '728daff2a3',\n",
       "  '7dfdff1b7d',\n",
       "  '7ffc86edf4',\n",
       "  '954633ea01',\n",
       "  '9663292843',\n",
       "  '9f7641ce94',\n",
       "  'a24858e51e',\n",
       "  'a897272241',\n",
       "  'aa6e508f0c',\n",
       "  'ab252b28c0',\n",
       "  'accad58571',\n",
       "  'b09b119466',\n",
       "  'ba414a3e6f',\n",
       "  'be2e10f16a',\n",
       "  'be6205d016',\n",
       "  'be66c57b92',\n",
       "  'cc49215f67',\n",
       "  'cd2994fcc1',\n",
       "  'cd88899edb',\n",
       "  'd070e22e3b',\n",
       "  'd662592b54',\n",
       "  'da8043d54e',\n",
       "  'dffce1cf9a',\n",
       "  'e6afbe3753',\n",
       "  'ea15f3457c',\n",
       "  'eeddfe67f5',\n",
       "  'f7a60ba2a2',\n",
       "  'f94c225e84'})"
      ]
     },
     "execution_count": 13,
     "metadata": {},
     "output_type": "execute_result"
    }
   ],
   "source": [
    "train_scans, val_scans, test_scans"
   ]
  }
 ],
 "metadata": {
  "kernelspec": {
   "display_name": "labelmaker-mix3d",
   "language": "python",
   "name": "python3"
  },
  "language_info": {
   "codemirror_mode": {
    "name": "ipython",
    "version": 3
   },
   "file_extension": ".py",
   "mimetype": "text/x-python",
   "name": "python",
   "nbconvert_exporter": "python",
   "pygments_lexer": "ipython3",
   "version": "3.9.18"
  }
 },
 "nbformat": 4,
 "nbformat_minor": 2
}
