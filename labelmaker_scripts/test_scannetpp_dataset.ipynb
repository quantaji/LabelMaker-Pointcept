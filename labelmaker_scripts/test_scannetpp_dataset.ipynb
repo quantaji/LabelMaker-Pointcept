{
 "cells": [
  {
   "cell_type": "code",
   "execution_count": 1,
   "metadata": {},
   "outputs": [],
   "source": [
    "import plyfile"
   ]
  },
  {
   "cell_type": "code",
   "execution_count": 2,
   "metadata": {},
   "outputs": [],
   "source": [
    "semantic_ply_path  = \"/mnt/ScanNet++/data/4c5c60fa76/scans/mesh_aligned_0.05_semantic.ply\"\n",
    "ply_path = \"/mnt/ScanNet++/data/4c5c60fa76/scans/mesh_aligned_0.05.ply\""
   ]
  },
  {
   "cell_type": "code",
   "execution_count": 3,
   "metadata": {},
   "outputs": [],
   "source": [
    "semantic_ply = plyfile.PlyData.read(semantic_ply_path)\n",
    "ply = plyfile.PlyData.read(ply_path)"
   ]
  },
  {
   "cell_type": "code",
   "execution_count": 33,
   "metadata": {},
   "outputs": [],
   "source": [
    "import open3d as o3d"
   ]
  },
  {
   "cell_type": "code",
   "execution_count": 4,
   "metadata": {},
   "outputs": [
    {
     "data": {
      "text/plain": [
       "PlyData((PlyElement('vertex', (PlyProperty('x', 'float'), PlyProperty('y', 'float'), PlyProperty('z', 'float'), PlyProperty('red', 'uchar'), PlyProperty('green', 'uchar'), PlyProperty('blue', 'uchar')), count=1762795, comments=[]), PlyElement('face', (PlyListProperty('vertex_indices', 'uchar', 'int'),), count=3563772, comments=[])), text=False, byte_order='<', comments=[], obj_info=[])"
      ]
     },
     "execution_count": 4,
     "metadata": {},
     "output_type": "execute_result"
    }
   ],
   "source": [
    "ply"
   ]
  },
  {
   "cell_type": "code",
   "execution_count": 5,
   "metadata": {},
   "outputs": [
    {
     "data": {
      "text/plain": [
       "PlyData((PlyElement('vertex', (PlyProperty('x', 'float'), PlyProperty('y', 'float'), PlyProperty('z', 'float'), PlyProperty('red', 'uchar'), PlyProperty('green', 'uchar'), PlyProperty('blue', 'uchar'), PlyProperty('label', 'int')), count=1762795, comments=[]), PlyElement('face', (PlyListProperty('vertex_indices', 'uchar', 'int'),), count=3563772, comments=[])), text=False, byte_order='<', comments=[], obj_info=[])"
      ]
     },
     "execution_count": 5,
     "metadata": {},
     "output_type": "execute_result"
    }
   ],
   "source": [
    "semantic_ply"
   ]
  },
  {
   "cell_type": "code",
   "execution_count": 6,
   "metadata": {},
   "outputs": [],
   "source": [
    "data = semantic_ply.elements[0].data"
   ]
  },
  {
   "cell_type": "code",
   "execution_count": 9,
   "metadata": {},
   "outputs": [],
   "source": [
    "import numpy as np"
   ]
  },
  {
   "cell_type": "code",
   "execution_count": 10,
   "metadata": {},
   "outputs": [],
   "source": [
    "labels = np.array(data['label'])"
   ]
  },
  {
   "cell_type": "code",
   "execution_count": 46,
   "metadata": {},
   "outputs": [
    {
     "data": {
      "text/plain": [
       "(1762795,)"
      ]
     },
     "execution_count": 46,
     "metadata": {},
     "output_type": "execute_result"
    }
   ],
   "source": [
    "labels.shape"
   ]
  },
  {
   "cell_type": "code",
   "execution_count": 12,
   "metadata": {},
   "outputs": [
    {
     "data": {
      "text/plain": [
       "array([-100,    0,    1,    2,    3,    4,    5,    8,   10,   12,   13,\n",
       "         15,   17,   18,   19,   23,   24,   30,   35,   37,   38,   45,\n",
       "         48,   53,   56,   58,   59,   63,   68,   71,   80,   83,   87,\n",
       "         88,   91,   96,   98,  102,  106,  111,  118,  132,  144,  148,\n",
       "        161,  166,  173,  182,  188,  222,  257,  272,  273,  294,  296,\n",
       "        323,  338,  345,  370,  405,  518,  542,  902,  941, 1049, 1267,\n",
       "       1313, 1327, 1476], dtype=int32)"
      ]
     },
     "execution_count": 12,
     "metadata": {},
     "output_type": "execute_result"
    }
   ],
   "source": [
    "np.unique(labels)"
   ]
  },
  {
   "cell_type": "code",
   "execution_count": 13,
   "metadata": {},
   "outputs": [],
   "source": [
    "SCANNETPP_NAMES = [\n",
    "    \"wall\",\n",
    "    \"ceiling\",\n",
    "    \"floor\",\n",
    "    \"table\",\n",
    "    \"door\",\n",
    "    \"ceiling lamp\",\n",
    "    \"cabinet\",\n",
    "    \"blinds\",\n",
    "    \"curtain\",\n",
    "    \"chair\",\n",
    "    \"storage cabinet\",\n",
    "    \"office chair\",\n",
    "    \"bookshelf\",\n",
    "    \"whiteboard\",\n",
    "    \"window\",\n",
    "    \"box\",\n",
    "    \"window frame\",\n",
    "    \"monitor\",\n",
    "    \"shelf\",\n",
    "    \"doorframe\",\n",
    "    \"pipe\",\n",
    "    \"heater\",\n",
    "    \"kitchen cabinet\",\n",
    "    \"sofa\",\n",
    "    \"windowsill\",\n",
    "    \"bed\",\n",
    "    \"shower wall\",\n",
    "    \"trash can\",\n",
    "    \"book\",\n",
    "    \"plant\",\n",
    "    \"blanket\",\n",
    "    \"tv\",\n",
    "    \"computer tower\",\n",
    "    \"kitchen counter\",\n",
    "    \"refrigerator\",\n",
    "    \"jacket\",\n",
    "    \"electrical duct\",\n",
    "    \"sink\",\n",
    "    \"bag\",\n",
    "    \"picture\",\n",
    "    \"pillow\",\n",
    "    \"towel\",\n",
    "    \"suitcase\",\n",
    "    \"backpack\",\n",
    "    \"crate\",\n",
    "    \"keyboard\",\n",
    "    \"rack\",\n",
    "    \"toilet\",\n",
    "    \"paper\",\n",
    "    \"printer\",\n",
    "    \"poster\",\n",
    "    \"painting\",\n",
    "    \"microwave\",\n",
    "    \"board\",\n",
    "    \"shoes\",\n",
    "    \"socket\",\n",
    "    \"bottle\",\n",
    "    \"bucket\",\n",
    "    \"cushion\",\n",
    "    \"basket\",\n",
    "    \"shoe rack\",\n",
    "    \"telephone\",\n",
    "    \"file folder\",\n",
    "    \"cloth\",\n",
    "    \"blind rail\",\n",
    "    \"laptop\",\n",
    "    \"plant pot\",\n",
    "    \"exhaust fan\",\n",
    "    \"cup\",\n",
    "    \"coat hanger\",\n",
    "    \"light switch\",\n",
    "    \"speaker\",\n",
    "    \"table lamp\",\n",
    "    \"air vent\",\n",
    "    \"clothes hanger\",\n",
    "    \"kettle\",\n",
    "    \"smoke detector\",\n",
    "    \"container\",\n",
    "    \"power strip\",\n",
    "    \"slippers\",\n",
    "    \"paper bag\",\n",
    "    \"mouse\",\n",
    "    \"cutting board\",\n",
    "    \"toilet paper\",\n",
    "    \"paper towel\",\n",
    "    \"pot\",\n",
    "    \"clock\",\n",
    "    \"pan\",\n",
    "    \"tap\",\n",
    "    \"jar\",\n",
    "    \"soap dispenser\",\n",
    "    \"binder\",\n",
    "    \"bowl\",\n",
    "    \"tissue box\",\n",
    "    \"whiteboard eraser\",\n",
    "    \"toilet brush\",\n",
    "    \"spray bottle\",\n",
    "    \"headphones\",\n",
    "    \"stapler\",\n",
    "    \"marker\",\n",
    "]"
   ]
  },
  {
   "cell_type": "code",
   "execution_count": 14,
   "metadata": {},
   "outputs": [],
   "source": [
    "import pandas as pd"
   ]
  },
  {
   "cell_type": "code",
   "execution_count": 15,
   "metadata": {},
   "outputs": [],
   "source": [
    "df = pd.read_csv('/mnt/ScanNet++/metadata/semantic_benchmark/map_benchmark.csv')"
   ]
  },
  {
   "cell_type": "code",
   "execution_count": 30,
   "metadata": {},
   "outputs": [],
   "source": [
    "SCANNETPP_ID_2_NAME = {}\n",
    "SCANNETPP_NAME_2_ID = {}\n",
    "\n",
    "for name in SCANNETPP_NAMES:\n",
    "    index = int(df[df['class'] == name][\"Unnamed: 0\"])\n",
    "    SCANNETPP_ID_2_NAME[index] = name\n",
    "    SCANNETPP_NAME_2_ID[name] = index"
   ]
  },
  {
   "cell_type": "code",
   "execution_count": 32,
   "metadata": {},
   "outputs": [
    {
     "data": {
      "text/plain": [
       "{'wall': 1536,\n",
       " 'ceiling': 211,\n",
       " 'floor': 533,\n",
       " 'table': 1398,\n",
       " 'door': 399,\n",
       " 'ceiling lamp': 210,\n",
       " 'cabinet': 160,\n",
       " 'blinds': 114,\n",
       " 'curtain': 340,\n",
       " 'chair': 230,\n",
       " 'storage cabinet': 1359,\n",
       " 'office chair': 911,\n",
       " 'bookshelf': 126,\n",
       " 'whiteboard': 1599,\n",
       " 'window': 1610,\n",
       " 'box': 138,\n",
       " 'window frame': 1612,\n",
       " 'monitor': 873,\n",
       " 'shelf': 1219,\n",
       " 'doorframe': 400,\n",
       " 'pipe': 1033,\n",
       " 'heater': 670,\n",
       " 'kitchen cabinet': 726,\n",
       " 'sofa': 1305,\n",
       " 'windowsill': 1618,\n",
       " 'bed': 80,\n",
       " 'shower wall': 1268,\n",
       " 'trash can': 1486,\n",
       " 'book': 123,\n",
       " 'plant': 1040,\n",
       " 'blanket': 37,\n",
       " 'tv': 1504,\n",
       " 'computer tower': 300,\n",
       " 'kitchen counter': 732,\n",
       " 'refrigerator': 1142,\n",
       " 'jacket': 707,\n",
       " 'electrical duct': 464,\n",
       " 'sink': 1276,\n",
       " 'bag': 31,\n",
       " 'picture': 994,\n",
       " 'pillow': 1027,\n",
       " 'towel': 1468,\n",
       " 'suitcase': 1379,\n",
       " 'backpack': 28,\n",
       " 'crate': 331,\n",
       " 'keyboard': 724,\n",
       " 'rack': 1123,\n",
       " 'toilet': 1436,\n",
       " 'paper': 953,\n",
       " 'printer': 1105,\n",
       " 'poster': 1078,\n",
       " 'painting': 941,\n",
       " 'microwave': 851,\n",
       " 'board': 120,\n",
       " 'shoes': 1232,\n",
       " 'socket': 1300,\n",
       " 'bottle': 128,\n",
       " 'bucket': 151,\n",
       " 'cushion': 345,\n",
       " 'basket': 55,\n",
       " 'shoe rack': 1230,\n",
       " 'telephone': 1418,\n",
       " 'file folder': 504,\n",
       " 'cloth': 262,\n",
       " 'blind rail': 111,\n",
       " 'laptop': 777,\n",
       " 'plant pot': 1041,\n",
       " 'exhaust fan': 446,\n",
       " 'cup': 337,\n",
       " 'coat hanger': 280,\n",
       " 'light switch': 801,\n",
       " 'speaker': 1311,\n",
       " 'table lamp': 1403,\n",
       " 'air vent': 11,\n",
       " 'clothes hanger': 272,\n",
       " 'kettle': 721,\n",
       " 'smoke detector': 1292,\n",
       " 'container': 307,\n",
       " 'power strip': 1099,\n",
       " 'slippers': 1287,\n",
       " 'paper bag': 954,\n",
       " 'mouse': 886,\n",
       " 'cutting board': 348,\n",
       " 'toilet paper': 1443,\n",
       " 'paper towel': 975,\n",
       " 'pot': 1081,\n",
       " 'clock': 259,\n",
       " 'pan': 947,\n",
       " 'tap': 1410,\n",
       " 'jar': 710,\n",
       " 'soap dispenser': 1298,\n",
       " 'binder': 104,\n",
       " 'bowl': 137,\n",
       " 'tissue box': 1428,\n",
       " 'whiteboard eraser': 1601,\n",
       " 'toilet brush': 1437,\n",
       " 'spray bottle': 1322,\n",
       " 'headphones': 666,\n",
       " 'stapler': 1340,\n",
       " 'marker': 829}"
      ]
     },
     "execution_count": 32,
     "metadata": {},
     "output_type": "execute_result"
    }
   ],
   "source": [
    "SCANNETPP_NAME_2_ID"
   ]
  },
  {
   "cell_type": "code",
   "execution_count": 29,
   "metadata": {},
   "outputs": [
    {
     "data": {
      "text/plain": [
       "1327"
      ]
     },
     "execution_count": 29,
     "metadata": {},
     "output_type": "execute_result"
    }
   ],
   "source": [
    "b"
   ]
  },
  {
   "cell_type": "code",
   "execution_count": 36,
   "metadata": {},
   "outputs": [],
   "source": [
    "test = o3d.io.read_triangle_mesh(ply_path)"
   ]
  },
  {
   "cell_type": "code",
   "execution_count": 40,
   "metadata": {},
   "outputs": [
    {
     "data": {
      "text/plain": [
       "TriangleMesh with 1762795 points and 3563772 triangles."
      ]
     },
     "execution_count": 40,
     "metadata": {},
     "output_type": "execute_result"
    }
   ],
   "source": [
    "test.compute_vertex_normals()"
   ]
  },
  {
   "cell_type": "code",
   "execution_count": 41,
   "metadata": {},
   "outputs": [
    {
     "data": {
      "text/plain": [
       "True"
      ]
     },
     "execution_count": 41,
     "metadata": {},
     "output_type": "execute_result"
    }
   ],
   "source": [
    "test.has_vertex_normals()"
   ]
  },
  {
   "cell_type": "code",
   "execution_count": 44,
   "metadata": {},
   "outputs": [
    {
     "data": {
      "text/plain": [
       "(1762795, 3)"
      ]
     },
     "execution_count": 44,
     "metadata": {},
     "output_type": "execute_result"
    }
   ],
   "source": [
    "np.asarray(test.vertex_normals).shape"
   ]
  },
  {
   "cell_type": "code",
   "execution_count": 45,
   "metadata": {},
   "outputs": [
    {
     "data": {
      "text/plain": [
       "(3, 1762795)"
      ]
     },
     "execution_count": 45,
     "metadata": {},
     "output_type": "execute_result"
    }
   ],
   "source": [
    "np.array([data[\"x\"],data[\"x\"],data[\"x\"]]).shape"
   ]
  },
  {
   "cell_type": "code",
   "execution_count": 47,
   "metadata": {},
   "outputs": [],
   "source": [
    "temp = [SCANNETPP_NAME_2_ID[name] for name in SCANNETPP_NAMES]"
   ]
  },
  {
   "cell_type": "code",
   "execution_count": 49,
   "metadata": {},
   "outputs": [
    {
     "data": {
      "text/plain": [
       "{1536: 0,\n",
       " 211: 1,\n",
       " 533: 2,\n",
       " 1398: 3,\n",
       " 399: 4,\n",
       " 210: 5,\n",
       " 160: 6,\n",
       " 114: 7,\n",
       " 340: 8,\n",
       " 230: 9,\n",
       " 1359: 10,\n",
       " 911: 11,\n",
       " 126: 12,\n",
       " 1599: 13,\n",
       " 1610: 14,\n",
       " 138: 15,\n",
       " 1612: 16,\n",
       " 873: 17,\n",
       " 1219: 18,\n",
       " 400: 19,\n",
       " 1033: 20,\n",
       " 670: 21,\n",
       " 726: 22,\n",
       " 1305: 23,\n",
       " 1618: 24,\n",
       " 80: 25,\n",
       " 1268: 26,\n",
       " 1486: 27,\n",
       " 123: 28,\n",
       " 1040: 29,\n",
       " 37: 30,\n",
       " 1504: 31,\n",
       " 300: 32,\n",
       " 732: 33,\n",
       " 1142: 34,\n",
       " 707: 35,\n",
       " 464: 36,\n",
       " 1276: 37,\n",
       " 31: 38,\n",
       " 994: 39,\n",
       " 1027: 40,\n",
       " 1468: 41,\n",
       " 1379: 42,\n",
       " 28: 43,\n",
       " 331: 44,\n",
       " 724: 45,\n",
       " 1123: 46,\n",
       " 1436: 47,\n",
       " 953: 48,\n",
       " 1105: 49,\n",
       " 1078: 50,\n",
       " 941: 51,\n",
       " 851: 52,\n",
       " 120: 53,\n",
       " 1232: 54,\n",
       " 1300: 55,\n",
       " 128: 56,\n",
       " 151: 57,\n",
       " 345: 58,\n",
       " 55: 59,\n",
       " 1230: 60,\n",
       " 1418: 61,\n",
       " 504: 62,\n",
       " 262: 63,\n",
       " 111: 64,\n",
       " 777: 65,\n",
       " 1041: 66,\n",
       " 446: 67,\n",
       " 337: 68,\n",
       " 280: 69,\n",
       " 801: 70,\n",
       " 1311: 71,\n",
       " 1403: 72,\n",
       " 11: 73,\n",
       " 272: 74,\n",
       " 721: 75,\n",
       " 1292: 76,\n",
       " 307: 77,\n",
       " 1099: 78,\n",
       " 1287: 79,\n",
       " 954: 80,\n",
       " 886: 81,\n",
       " 348: 82,\n",
       " 1443: 83,\n",
       " 975: 84,\n",
       " 1081: 85,\n",
       " 259: 86,\n",
       " 947: 87,\n",
       " 1410: 88,\n",
       " 710: 89,\n",
       " 1298: 90,\n",
       " 104: 91,\n",
       " 137: 92,\n",
       " 1428: 93,\n",
       " 1601: 94,\n",
       " 1437: 95,\n",
       " 1322: 96,\n",
       " 666: 97,\n",
       " 1340: 98,\n",
       " 829: 99}"
      ]
     },
     "execution_count": 49,
     "metadata": {},
     "output_type": "execute_result"
    }
   ],
   "source": [
    "m = {}\n",
    "for idx, name in enumerate(SCANNETPP_NAMES):\n",
    "    m[SCANNETPP_NAME_2_ID[name]] = idx\n",
    "\n",
    "m"
   ]
  },
  {
   "cell_type": "code",
   "execution_count": 50,
   "metadata": {},
   "outputs": [],
   "source": [
    "import torch"
   ]
  },
  {
   "cell_type": "code",
   "execution_count": 53,
   "metadata": {},
   "outputs": [],
   "source": [
    "a = torch.load(\"/mnt/LabelMaker/LabelMaker-Pointcept/data/scannetpp/train/0cf2e9402d.pth\")"
   ]
  },
  {
   "cell_type": "code",
   "execution_count": 55,
   "metadata": {},
   "outputs": [
    {
     "data": {
      "text/plain": [
       "array([92, 12, 12, ..., 12, 12, 12])"
      ]
     },
     "execution_count": 55,
     "metadata": {},
     "output_type": "execute_result"
    }
   ],
   "source": [
    "a['semantic_gt'][a['semantic_gt'] != -1]"
   ]
  },
  {
   "cell_type": "code",
   "execution_count": null,
   "metadata": {},
   "outputs": [],
   "source": []
  }
 ],
 "metadata": {
  "kernelspec": {
   "display_name": "labelmaker-mix3d",
   "language": "python",
   "name": "python3"
  },
  "language_info": {
   "codemirror_mode": {
    "name": "ipython",
    "version": 3
   },
   "file_extension": ".py",
   "mimetype": "text/x-python",
   "name": "python",
   "nbconvert_exporter": "python",
   "pygments_lexer": "ipython3",
   "version": "3.9.18"
  }
 },
 "nbformat": 4,
 "nbformat_minor": 2
}
