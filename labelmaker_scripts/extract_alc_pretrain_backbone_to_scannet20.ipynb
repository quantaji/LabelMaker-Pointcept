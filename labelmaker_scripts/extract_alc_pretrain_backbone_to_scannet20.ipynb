{
 "cells": [
  {
   "cell_type": "code",
   "execution_count": 1,
   "metadata": {},
   "outputs": [],
   "source": [
    "# alc_pretrain_path = \"/home/guangda/repos/LabelMaker-Pointcept/exp/alc/arkitscenes_labelmaker_scannet200_pretrai_regular_lr/model/model_best.pth\"\n",
    "alc_pretrain_path = \"/home/guangda/repos/LabelMaker-Pointcept/exp/alc/arkitscenes_labelmaker_wn199_pretrain/model/model_last.pth\""
   ]
  },
  {
   "cell_type": "code",
   "execution_count": 2,
   "metadata": {},
   "outputs": [],
   "source": [
    "import torch\n",
    "\n",
    "a = torch.load(alc_pretrain_path)\n",
    "\n",
    "import os\n",
    "import sys\n",
    "\n",
    "sys.path.append(\"/home/guangda/repos/LabelMaker-Pointcept\")"
   ]
  },
  {
   "cell_type": "code",
   "execution_count": 3,
   "metadata": {},
   "outputs": [],
   "source": [
    "from pointcept.models import  PointTransformerV3\n",
    "from pointcept.models.default import DefaultSegmentorV2\n",
    "from pointcept.models.losses import CrossEntropyLoss, LovaszLoss"
   ]
  },
  {
   "cell_type": "code",
   "execution_count": 4,
   "metadata": {},
   "outputs": [],
   "source": [
    "empty_model = DefaultSegmentorV2(\n",
    "    # num_classes=20,\n",
    "    # num_classes=200,\n",
    "    num_classes=100,\n",
    "    backbone_out_channels=64,\n",
    "    backbone=dict(\n",
    "        type=\"PT-v3m1\",\n",
    "        in_channels=6,\n",
    "        order=[\"z\", \"z-trans\", \"hilbert\", \"hilbert-trans\"],\n",
    "        stride=(2, 2, 2, 2),\n",
    "        enc_depths=(2, 2, 2, 6, 2),\n",
    "        enc_channels=(32, 64, 128, 256, 512),\n",
    "        enc_num_head=(2, 4, 8, 16, 32),\n",
    "        enc_patch_size=(1024, 1024, 1024, 1024, 1024),\n",
    "        dec_depths=(2, 2, 2, 2),\n",
    "        dec_channels=(64, 64, 128, 256),\n",
    "        dec_num_head=(4, 4, 8, 16),\n",
    "        dec_patch_size=(1024, 1024, 1024, 1024),\n",
    "        mlp_ratio=4,\n",
    "        qkv_bias=True,\n",
    "        qk_scale=None,\n",
    "        attn_drop=0.0,\n",
    "        proj_drop=0.0,\n",
    "        drop_path=0.3,\n",
    "        shuffle_orders=True,\n",
    "        pre_norm=True,\n",
    "        enable_rpe=False,\n",
    "        enable_flash=True,\n",
    "        upcast_attention=False,\n",
    "        upcast_softmax=False,\n",
    "        cls_mode=False,\n",
    "        pdnorm_bn=False,\n",
    "        pdnorm_ln=False,\n",
    "        pdnorm_decouple=True,\n",
    "        pdnorm_adaptive=False,\n",
    "        pdnorm_affine=True,\n",
    "        pdnorm_conditions=(\"ScanNet\", \"S3DIS\", \"Structured3D\"),\n",
    "    ),\n",
    "    criteria=[\n",
    "        dict(type=\"CrossEntropyLoss\", loss_weight=1.0, ignore_index=-1),\n",
    "        dict(type=\"LovaszLoss\", mode=\"multiclass\", loss_weight=1.0, ignore_index=-1),\n",
    "    ],\n",
    ")"
   ]
  },
  {
   "cell_type": "code",
   "execution_count": 5,
   "metadata": {},
   "outputs": [],
   "source": [
    "old_keys = set([key.replace(\"module.\", \"\") for key in a[\"state_dict\"].keys()])\n",
    "new_keys = set(empty_model.state_dict().keys())"
   ]
  },
  {
   "cell_type": "code",
   "execution_count": 6,
   "metadata": {},
   "outputs": [
    {
     "data": {
      "text/plain": [
       "set()"
      ]
     },
     "execution_count": 6,
     "metadata": {},
     "output_type": "execute_result"
    }
   ],
   "source": [
    "old_keys - new_keys"
   ]
  },
  {
   "cell_type": "code",
   "execution_count": 7,
   "metadata": {},
   "outputs": [
    {
     "data": {
      "text/plain": [
       "set()"
      ]
     },
     "execution_count": 7,
     "metadata": {},
     "output_type": "execute_result"
    }
   ],
   "source": [
    "new_keys - old_keys"
   ]
  },
  {
   "cell_type": "code",
   "execution_count": 8,
   "metadata": {},
   "outputs": [
    {
     "name": "stdout",
     "output_type": "stream",
     "text": [
      "seg_head.bias\n",
      "seg_head.weight\n"
     ]
    }
   ],
   "source": [
    "for key in new_keys:\n",
    "    old_key = \"module.\" + key\n",
    "    if a[\"state_dict\"][old_key].shape != empty_model.state_dict()[key].shape:\n",
    "        print(key)"
   ]
  },
  {
   "cell_type": "code",
   "execution_count": 9,
   "metadata": {},
   "outputs": [],
   "source": [
    "new_save = {\"state_dict\": {}}\n",
    "for key in new_keys:\n",
    "    old_key = \"module.\" + key\n",
    "    if a[\"state_dict\"][old_key].shape != empty_model.state_dict()[key].shape:\n",
    "        new_save[\"state_dict\"][old_key] = empty_model.state_dict()[key]\n",
    "    else:\n",
    "        new_save[\"state_dict\"][old_key] = a[\"state_dict\"][old_key]"
   ]
  },
  {
   "cell_type": "code",
   "execution_count": 10,
   "metadata": {},
   "outputs": [],
   "source": [
    "# torch.save(new_save, \"/home/guangda/repos/LabelMaker-Pointcept/exp/alc/arkitscenes_labelmaker_wn199_pretrain/model/model_modified_scannet200.pth\")\n",
    "torch.save(new_save, \"/home/guangda/repos/LabelMaker-Pointcept/exp/alc/arkitscenes_labelmaker_wn199_pretrain/model/model_modified_scannetpp.pth\")"
   ]
  },
  {
   "cell_type": "code",
   "execution_count": null,
   "metadata": {},
   "outputs": [],
   "source": []
  }
 ],
 "metadata": {
  "kernelspec": {
   "display_name": "labelmaker-pointcept",
   "language": "python",
   "name": "python3"
  },
  "language_info": {
   "codemirror_mode": {
    "name": "ipython",
    "version": 3
   },
   "file_extension": ".py",
   "mimetype": "text/x-python",
   "name": "python",
   "nbconvert_exporter": "python",
   "pygments_lexer": "ipython3",
   "version": "3.9.18"
  }
 },
 "nbformat": 4,
 "nbformat_minor": 2
}
